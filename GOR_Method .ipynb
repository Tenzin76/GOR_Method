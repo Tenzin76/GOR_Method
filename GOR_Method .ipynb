{
 "cells": [
  {
   "cell_type": "code",
   "execution_count": 103,
   "metadata": {},
   "outputs": [],
   "source": [
    "import numpy as np\n",
    "import pandas as pd\n",
    "import math"
   ]
  },
  {
   "cell_type": "raw",
   "metadata": {},
   "source": [
    "loads 1200 files containing the training data and appends them to empty variable Train "
   ]
  },
  {
   "cell_type": "code",
   "execution_count": 104,
   "metadata": {
    "scrolled": true
   },
   "outputs": [],
   "source": [
    "N = 1200  \n",
    "Train = []   \n",
    "for r in range(1,N):      \n",
    "     a = np.loadtxt(f\"{r}.dssp\", dtype=str)\n",
    "     Train.append(a)\n",
    "#print(Train)"
   ]
  },
  {
   "cell_type": "raw",
   "metadata": {},
   "source": [
    "\"\"\"\n",
    "For each file in Train: position 0 has all the known Sec Strucs & position 1 has all the Amino Acid seq\n",
    "Loops through Train \n",
    "    appends all the Amino Acid seq to empty list list_of_AA_seq \n",
    "    appends all the Sec Struc to empty list list_of_prot_secstruc \n",
    "    \n",
    "    \"\"\""
   ]
  },
  {
   "cell_type": "code",
   "execution_count": 105,
   "metadata": {},
   "outputs": [],
   "source": [
    "list_of_AA_seq = []\n",
    "list_of_prot_secstruc = []\n",
    "for a in Train:\n",
    "    list_of_AA_seq.append(a[1]) \n",
    "    list_of_prot_secstruc.append(a[0]) "
   ]
  },
  {
   "cell_type": "code",
   "execution_count": 106,
   "metadata": {
    "scrolled": true
   },
   "outputs": [],
   "source": [
    "#print(list_of_AA_seq)"
   ]
  },
  {
   "cell_type": "code",
   "execution_count": 107,
   "metadata": {},
   "outputs": [],
   "source": [
    "#print(list_of_prot_secstruc)"
   ]
  },
  {
   "cell_type": "raw",
   "metadata": {},
   "source": [
    "def get_residue_structure() \n",
    "    \"\"\"\n",
    "    parameter\n",
    "    ---------\n",
    "    num: list\n",
    "        list of items (list_of_AA_seq or list_of_prot_secstruc)\n",
    "        \n",
    "        Reads through parameter num and for each item in num, it reads all the values in the item and appends the values \n",
    "        to empty variable List\n",
    "        \n",
    "    returns\n",
    "    --------\n",
    "    List\n",
    "    \n",
    "    \"\"\""
   ]
  },
  {
   "cell_type": "code",
   "execution_count": 152,
   "metadata": {},
   "outputs": [],
   "source": [
    "def get_residue_structure(num):\n",
    "    List =  [] \n",
    "    for x in range(len(num)): \n",
    "        seq = num[x] \n",
    "        for aa in range(len(seq)):\n",
    "            List.append(seq[aa])\n",
    "        \n",
    "    return List "
   ]
  },
  {
   "cell_type": "code",
   "execution_count": 153,
   "metadata": {},
   "outputs": [],
   "source": [
    "all_residues_in_train = get_residue_structure(list_of_AA_seq)\n",
    "all_secstruc_in_train = get_residue_structure(list_of_prot_secstruc) "
   ]
  },
  {
   "cell_type": "code",
   "execution_count": 154,
   "metadata": {},
   "outputs": [],
   "source": [
    "#print(all_residues_in_train)"
   ]
  },
  {
   "cell_type": "code",
   "execution_count": 155,
   "metadata": {},
   "outputs": [],
   "source": [
    "#print(all_secstruc_in_train)"
   ]
  },
  {
   "cell_type": "raw",
   "metadata": {},
   "source": [
    "def get_secstruc_conform_list(residuelist, struc_type,secstruclist)\n",
    "    \"\"\"\n",
    "    parameters\n",
    "    -----------\n",
    "    residuelist: list\n",
    "        all_residues_in_train\n",
    "    struc_type: str\n",
    "        (H, E, or -)\n",
    "    secstruclist: list\n",
    "        all_secsuctr_in_train\n",
    " \n",
    "    Reads through secstruclist and given the value of the parameter struc_type, if at a position (x) in secstruclist \n",
    "    has the same value as struc_type, the value of AA in residuelist at that same position (x) is appended to variable struc\n",
    "    And the position (x) is appended to variable struc_pos\n",
    "    \n",
    "    returns \n",
    "    --------\n",
    "    struc and struc_pos\n",
    "    \n",
    "    \"\"\"\n"
   ]
  },
  {
   "cell_type": "code",
   "execution_count": 156,
   "metadata": {},
   "outputs": [],
   "source": [
    "def get_secstruc_conform_list(residuelist, struc_type,secstruclist):   \n",
    "    struc = []\n",
    "    struc_pos = []\n",
    "    for i in range(0, len(residuelist)):          \n",
    "        if secstruclist[i] == struc_type:\n",
    "            struc.append(residuelist[i])\n",
    "            struc_pos.append(i)\n",
    "    return struc, struc_pos"
   ]
  },
  {
   "cell_type": "code",
   "execution_count": 157,
   "metadata": {},
   "outputs": [],
   "source": [
    "allaminoacid_in_alphaconform = get_secstruc_conform_list(all_residues_in_train, 'H',all_secstruc_in_train)[0]\n",
    "alphaconform_pos = get_secstruc_conform_list(all_residues_in_train, 'H',all_secstruc_in_train)[1]"
   ]
  },
  {
   "cell_type": "code",
   "execution_count": 158,
   "metadata": {},
   "outputs": [],
   "source": [
    "#print(allaminoacid_in_alphaconform)"
   ]
  },
  {
   "cell_type": "code",
   "execution_count": 159,
   "metadata": {},
   "outputs": [],
   "source": [
    "#print(alphaconform_pos)"
   ]
  },
  {
   "cell_type": "code",
   "execution_count": 160,
   "metadata": {},
   "outputs": [],
   "source": [
    "allaminoacid_in_extendconform = get_secstruc_conform_list(all_residues_in_train, 'E',all_secstruc_in_train)[0]\n",
    "extendconform_pos = get_secstruc_conform_list(all_residues_in_train, 'E',all_secstruc_in_train)[1]"
   ]
  },
  {
   "cell_type": "code",
   "execution_count": 161,
   "metadata": {},
   "outputs": [],
   "source": [
    "#print(allaminoacid_in_extendconform)"
   ]
  },
  {
   "cell_type": "code",
   "execution_count": 162,
   "metadata": {},
   "outputs": [],
   "source": [
    "#print(extendconform_pos)"
   ]
  },
  {
   "cell_type": "code",
   "execution_count": 163,
   "metadata": {},
   "outputs": [],
   "source": [
    "allaminoacid_in_otherconform = get_secstruc_conform_list(all_residues_in_train, '-',all_secstruc_in_train)[0]\n",
    "otherconform_pos = get_secstruc_conform_list(all_residues_in_train, '-',all_secstruc_in_train)[1]"
   ]
  },
  {
   "cell_type": "code",
   "execution_count": 164,
   "metadata": {},
   "outputs": [],
   "source": [
    "#print(allaminoacid_in_otherconform)"
   ]
  },
  {
   "cell_type": "code",
   "execution_count": 121,
   "metadata": {},
   "outputs": [],
   "source": [
    "#print(otherconform_pos)"
   ]
  },
  {
   "cell_type": "raw",
   "metadata": {},
   "source": [
    "def matrix (rows, columns):\n",
    "    \"\"\"\n",
    "    parameters\n",
    "    ----------\n",
    "    rows: list\n",
    "        list of amino acids \n",
    "    columns: list\n",
    "        list of j-positions\n",
    "\n",
    "    creates a list of list with rows of len(parameter rows) and columns of len(parameter columns). Creates an empty matrix(m)\n",
    "    filled with zeros\n",
    "    \n",
    "    returns\n",
    "    --------\n",
    "    m \n",
    "    \n",
    "    \"\"\""
   ]
  },
  {
   "cell_type": "code",
   "execution_count": 165,
   "metadata": {},
   "outputs": [],
   "source": [
    "def matrix(rows, columns):\n",
    "    n = len(rows)\n",
    "    t = len(columns) \n",
    "    m=[]\n",
    "    for i in range(n):\n",
    "        m.append([])\n",
    "        for j in range(t):\n",
    "            m[i].append(0)\n",
    "    assert len(m) == n\n",
    "    assert len(m[0]) == t\n",
    "    return m"
   ]
  },
  {
   "cell_type": "code",
   "execution_count": 166,
   "metadata": {},
   "outputs": [],
   "source": [
    "j_range = [-8, -7, -6, -5, -4, -3, -2, -1, 0, 1, 2, 3, 4, 5, 6, 7, 8]\n",
    "AA_list = ['A', 'R','N','D','C','E','Q','G','H','I','L','K','M','F','P', 'S', 'T', 'W','Y', 'V']"
   ]
  },
  {
   "cell_type": "code",
   "execution_count": 167,
   "metadata": {},
   "outputs": [],
   "source": [
    "alpha_score_matrix = matrix(AA_list, j_range)\n",
    "extend_score_matrix = matrix(AA_list, j_range)\n",
    "other_score_matrix = matrix(AA_list, j_range)\n",
    "#print(str(alpha_score_matrix) + ('\\n') + str(extend_score_matrix) + ('\\n') + str(other_score_matrix))"
   ]
  },
  {
   "attachments": {
    "image.png": {
     "image/png": "[encoded data removed]"
    }
   },
   "cell_type": "markdown",
   "metadata": {},
   "source": [
    "function calculate_propensity() implements equations 1 and 2 to calculate score\n",
    "![image.png](attachment:image.png)"
   ]
  },
  {
   "cell_type": "code",
   "execution_count": 177,
   "metadata": {},
   "outputs": [],
   "source": [
    "def calculate_propensity(count_AA_SS, residuelist, count_AA, struc, freq):\n",
    "    prob_struc = count_AA_SS/len(residuelist)\n",
    "    prob_AA = count_AA/len(residuelist) \n",
    "    prob_AA_j_pos = freq /len(struc)\n",
    "    prob_aminoacid = (prob_AA_j_pos * prob_struc) / (prob_AA)\n",
    "    prob_aminoacid = prob_aminoacid / prob_struc\n",
    "    score = math.log(prob_aminoacid)\n",
    "    return score"
   ]
  },
  {
   "cell_type": "raw",
   "metadata": {},
   "source": [
    "def get_AA_prob(AA, j_pos, secstrucpos, AA_secstruc_conform, residuelist)\n",
    "\n",
    "    \"\"\"\n",
    "    parameters \n",
    "    ----------  \n",
    "    AA: str \n",
    "        any one of the 20 amino acids\n",
    "    j_pos: str\n",
    "        one of the 17 jposition\n",
    "    secstruc_pos: list\n",
    "        alphaconform_pos, extendconform_pos, or otherconform_pos\n",
    "    AA_secstruc_conform:  list\n",
    "       allaminoacid_in_alphaconform, allaminoacid_in_extendconform, or allaminoacid_in_otherconform\n",
    "    residuelist: list\n",
    "        all_residue_in_train\n",
    "\n",
    "    code\n",
    "    --------\n",
    "    count_AA: frequency of the value(i.e. amino acid) of parameter AA identified in all_residue_in_train list\n",
    "\n",
    "    count_ss: frequency of the value(i.e. amino acid) of parameter AA identified in AA_secstruc_conform\n",
    "\n",
    "    if strucpos == otherconform_pos:\n",
    "        conditional statement for when the value of parameter secstruc_pos is otherconform_pos\n",
    "        removes the values found in the first 8 positions and the last 8 positions from the list otherconform_pos\n",
    "\n",
    "    if j_range == 0:  (calculates score for the value of parameter j_range if it is 0)\n",
    "        loops through parameter secstruc_pos\n",
    "        takes each position(x) found in secstruc_pos\n",
    "        uses position(x) as the index to identify the element(i.e.amino acid) in all_residue_in_train\n",
    "        if the element found, at the index, in all_residue_in_train equals the value(target amino acid) of AA then appends \n",
    "        -the element to empty list (pos_h)  \n",
    "        after the itteration is over, the length of the list gives the frequency of target amino acid found at pos j=0\n",
    "     \n",
    "\n",
    "    if  9 > j_range > 0: (calculates score for the value of parameter j_range if it is greater than 0 and less than 9)\n",
    "        loops through parameter secstruc_pos\n",
    "        takes each position(x) found in secstruc_pos\n",
    "        adds value of j_range(1,2,3,4,5,6,7,or 8) to the position(x) \n",
    "        uses the new value position(x) as the index to identify the element(i.e.amino acid) in all_residue_in_train\n",
    "        if the element found, at the index, in all_residue_in_train equals the value(target amino acid) of AA then appends\n",
    "        -the element to empty list (freq_AA_j_pos)\n",
    "        after the itteration is over, the length of the list gives the frequency of target amino acid found at pos \n",
    "        j+1, j+2, j+3, j+4, j+5, j+6, j+7 or j+8 away from the where a sectruc was obsevered (i.e. at j)\n",
    "\n",
    "    if  0 > j_range > -9:  (calculates score for the value of parameter j_range if it is less than 0 and greater than -9)\n",
    "        loops through parameter secstruc_pos\n",
    "        takes each position(x) found in secstruc_pos\n",
    "        adds value of j_range(-1,-2,-3,-4,-5,-6,-7,or -8) to the position(x) \n",
    "        uses the new value position(x) as the index to identify the element(i.e.amino acid) in all_residue_in_train\n",
    "        if the element found, at the index, in all_residue_in_train equals the value(target amino acid) of AA then appends\n",
    "        -the element to empty list (freq_AA_j_pos)\n",
    "        after the itteration is over, the length of the list gives the frequency of target amino acid found at pos \n",
    "        j-1, j-2, j-3, j-4, j-5, j-6, j-7 or j-8 away from the where a sectruc was obsevered (i.e. at j)\n",
    "\n",
    "    returns\n",
    "    --------\n",
    "    score\n",
    "        value returned from calling the function calculate_propensity(count_AA_SS, residuelist, count_AA, struc, freq)\n",
    "    \n",
    "    \"\"\""
   ]
  },
  {
   "cell_type": "code",
   "execution_count": 169,
   "metadata": {},
   "outputs": [],
   "source": [
    "def get_AA_prob(AA_list, j_range, strucpos, struc, residuelist):\n",
    "\n",
    "    count_AA = 0\n",
    "    for i in range(0, len(residuelist)):\n",
    "        if residuelist[i] == AA_list :\n",
    "            count_AA += 1\n",
    "\n",
    "    count_AA_SS = 0\n",
    "    for i in range(0, len(struc)):\n",
    "        if struc[i] == AA_list :\n",
    "            count_AA_SS += 1\n",
    "            \n",
    "    if strucpos == otherconform_pos:\n",
    "        m = len(strucpos) - 8\n",
    "        strucpos = strucpos[8:m] \n",
    "\n",
    "    if j_range == 0:\n",
    "        pos_h = []\n",
    "        for i in range(0, len(strucpos)):\n",
    "            index = strucpos[i]\n",
    "            if residuelist[index] == AA_list:   \n",
    "                pos_h.append(residuelist[index])\n",
    "                freq = len(pos_h) \n",
    "                \n",
    "    if  9 > j_range > 0:\n",
    "        freq_AA_j_pos = []\n",
    "        for i in range(0, len(strucpos)):\n",
    "            index = strucpos[i] + j_range \n",
    "            if residuelist[index] == AA_list:\n",
    "                freq_AA_j_pos.append(residuelist[index])\n",
    "                freq = len(freq_AA_j_pos)\n",
    "       \n",
    "    if  0 > j_range > -9:\n",
    "        freq_AA_j_pos = []\n",
    "        for i in range(0, len(strucpos)):\n",
    "            index = strucpos[i] + j_range \n",
    "            if residuelist[index] == AA_list:\n",
    "                freq_AA_j_pos.append(residuelist[index])\n",
    "                freq = len(freq_AA_j_pos)\n",
    "                \n",
    "    score = calculate_propensity(count_AA_SS, residuelist, count_AA, struc, freq)\n",
    "    return score"
   ]
  },
  {
   "cell_type": "raw",
   "metadata": {},
   "source": [
    "\"\"\"\n",
    "    Creates a score matrix for each secstruc conformation type\n",
    "    Loops through all values (aminoacid) in AA_list and loops through all values (jposition) in j_range\n",
    "    At matrix postion [AA][jposition], calls function get_AA_prob() to calculate the score for that aminoacid and jposition\n",
    "    It goes through all possible combination of positions [AA][jposition] \n",
    "    give a score for designated amino acid and jposition \n",
    "    prints all three scoring matrix using pandas DataFrame\n",
    "   \n",
    "   \"\"\""
   ]
  },
  {
   "cell_type": "code",
   "execution_count": 170,
   "metadata": {},
   "outputs": [],
   "source": [
    "for i in range(0, len(AA_list)):\n",
    "    for j in range(0,len(j_range)):\n",
    "        alpha_score_matrix[i][j] = get_AA_prob(AA_list[i], j_range[j], alphaconform_pos ,allaminoacid_in_alphaconform, all_residues_in_train)\n",
    "        extend_score_matrix[i][j] = get_AA_prob(AA_list[i], j_range[j], extendconform_pos, allaminoacid_in_extendconform, all_residues_in_train)\n",
    "        other_score_matrix[i][j] = get_AA_prob(AA_list[i], j_range[j], otherconform_pos, allaminoacid_in_otherconform, all_residues_in_train)\n",
    "alpha_df = pd.DataFrame(alpha_score_matrix)\n",
    "alpha_df.index = AA_list\n",
    "extend_df = pd.DataFrame(extend_score_matrix)\n",
    "extend_df.index = AA_list\n",
    "other_df = pd.DataFrame(other_score_matrix)\n",
    "other_df.index = AA_list\n",
    "#print('extend matrix: \\n' + str(extend_df) +'\\n')\n",
    "#print('alpha matrix: \\n' + str(alpha_df) + '\\n')\n",
    "#print('other matrix: \\n' + str(other_df))\n"
   ]
  },
  {
   "cell_type": "code",
   "execution_count": 171,
   "metadata": {},
   "outputs": [],
   "source": [
    "test_protein_seq = \"1011.dssp\"\n",
    "\n",
    "file = np.loadtxt(test_protein_seq, dtype=str)\n",
    "AA_seq = file[1]\n",
    "SS_actual = file[0]"
   ]
  },
  {
   "cell_type": "raw",
   "metadata": {},
   "source": [
    "def get_row(AA_target, row):\n",
    "    \"\"\"\n",
    "    parameter\n",
    "    ---------\n",
    "    AA_target: str\n",
    "        one of the 20 amino acids\n",
    "    row: list\n",
    "        list of all 20 amino acids\n",
    "        \n",
    "    converts target AA in test protein seq to its row value in matrix\n",
    "    if target AA == value of row at position i\n",
    "    \n",
    "    returns\n",
    "    --------\n",
    "    i\n",
    "\n",
    "    \"\"\""
   ]
  },
  {
   "cell_type": "code",
   "execution_count": 172,
   "metadata": {},
   "outputs": [],
   "source": [
    "def get_row(AA_target, row):\n",
    "    for i in range(0, len(row)):\n",
    "        if AA_target == row[i]:\n",
    "            return i"
   ]
  },
  {
   "cell_type": "raw",
   "metadata": {},
   "source": [
    "def get_structure_score(seq, matrix_type, AAlist):\n",
    "\n",
    "    \"\"\"\n",
    "    parameters \n",
    "    ----------  \n",
    "    seq:\n",
    "        protein seq thats being predicted (test_protein_seq)     \n",
    "    matrix_type:\n",
    "        any one of the three score matrix\n",
    "    AAlist:\n",
    "        list of 20 AA\n",
    "\n",
    "    code\n",
    "    ----------\n",
    "    for pos in range(0, len(seq)):\n",
    "    \n",
    "    \"\"\" gets score for amino acid in seq at position j = 0 \"\"\"\n",
    "        \n",
    "        Defines target_pos as the first position in seq\n",
    "        Uses target_pos as the index to identify the element (i.e. amino acid) found in seq \n",
    "        The element becomes the Target_AA\n",
    "        The row is target_AA is converted to its row value by calling the get_row function\n",
    "        The column is variable j_zero = 8, because the 8th column in matrix is j = 0\n",
    "        The score is the value at matrix[row][j_zero]\n",
    "        appends score to empyty list (add_score)\n",
    "\n",
    "        if pos < 8: \n",
    "            executes the statement to get score from matrix if pos is less than 8\n",
    "            \n",
    "            \"\"\" gets score for amino acid in seq at 1-8 positions away in the positive C-terminal side\"\"\"\n",
    "            \n",
    "            for x in range(1,9):\n",
    "                takes value of pos as target_pos\n",
    "                Adds x to target_pos and stores the value in variable new_target_pos\n",
    "                Uses new_target_pos as index to identify the element(i.e. amino acid) found in seq \n",
    "                The element becomes the Target_AA \n",
    "                The row is target_AA converted to its row value by calling the get_row function\n",
    "                The column is the variable j_Cterm which is (j_zero + x) \n",
    "                The score is the value at matrix[row][j_Cterm] \n",
    "                appends the score to empty list (add_score)\n",
    "                \n",
    "                iterrates the above steps for x value 1-8 \n",
    "            \n",
    "        if (len(seqpos) - 8) > pos > 7:\n",
    "            executes the statement to get score from matrix when pos value is greater than 8 and less than (len(seq)-8) \n",
    "            \n",
    "            \"\"\" gets score for amino acid in seq at 1-8 positions away in the positive C-terminal side\n",
    "            and in the negative N-terminal side\"\"\"\n",
    "\n",
    "            for x in range(1,9):\n",
    "                takes value of pos as target_pos\n",
    "                Adds x to target_pos and stores the value in variable new_target_pos\n",
    "                Uses new_target_pos as index to identify the element(i.e. amino acid) found in seq \n",
    "                The element becomes the Target_AA \n",
    "                The row is target_AA converted to its row value by calling the get_row function\n",
    "                The column is the variable j_Cterm which is (j_zero + x) \n",
    "                The score is the value at matrix[row][j_Cterm] \n",
    "                appends the score to empty list (add_score)\n",
    "                \n",
    "                subtracts x from target_pos and stores the value in variable new_target_pos\n",
    "                Uses new_target_pos as index to identify the element(i.e. amino acid) found in seq \n",
    "                The element becomes the Target_AA \n",
    "                The row is target_AA converted to its row value by calling the get_row function\n",
    "                The column is the variable j_Nterm which is (j_zero - x) \n",
    "                The score is the value at matrix[row][j_Nterm] \n",
    "                appends the score to empty list (add_score)\n",
    "                \n",
    "                iterrates the above steps for x value 1-8 \n",
    "     \n",
    "        if pos >= (len(seqpos) - 8):\n",
    "            executes the statement to get score from matrix when pos value is greater (len(seq)-8) \n",
    "            \n",
    "            \"\"\" gets score for amino acid in seq at 1-8 positions away in the negative N-terminal side\"\"\"\n",
    "            \n",
    "            for x in range(1,9):\n",
    "                takes value of pos as target_pos\n",
    "                subtracts x from target_pos and stores the value in variable new_target_pos\n",
    "                Uses new_target_pos as index to identify the element(i.e. amino acid) found in seq \n",
    "                The element becomes the Target_AA \n",
    "                The row is target_AA converted to its row value by calling the get_row function\n",
    "                The column is the variable j_Nterm which is (j_zero - x) \n",
    "                The score is the value at matrix[row][j_Nterm] \n",
    "                appends the score to empty list (add_score)\n",
    "                \n",
    "                iterrates the steps for x value 1-8 \n",
    "            \n",
    "                \n",
    "        add = sum(add_score)\n",
    "        final_score.append(add)\n",
    "        add_score = []\n",
    "\n",
    "    returns\n",
    "    --------\n",
    "    final_score\n",
    "        list of score for each residue in seq\n",
    "    \n",
    "    \"\"\""
   ]
  },
  {
   "cell_type": "code",
   "execution_count": 173,
   "metadata": {},
   "outputs": [],
   "source": [
    "def get_structure_score(seq, matrix_type, AAlist):\n",
    "    final_score = []\n",
    "    add_score = []\n",
    "\n",
    "    for pos in range(0, len(seq)):\n",
    "        \n",
    "        target_pos = pos\n",
    "        target_AA = seq[target_pos]\n",
    "        row = get_row(target_AA, AAlist)\n",
    "        j_zero = 8\n",
    "        score = matrix_type[row][j_zero]\n",
    "        add_score.append(score)\n",
    "\n",
    "        if pos < 8: \n",
    "            for x in range(1,9):\n",
    "                new_target_pos = target_pos + x\n",
    "                new_target_AA = seq[new_target_pos]\n",
    "                new_row = get_row(new_target_AA, AAlist)\n",
    "                j_Cterm = j_zero + x\n",
    "                score = matrix_type[new_row][j_Cterm]\n",
    "                add_score.append(score)\n",
    "\n",
    "        if (len(seq) - 8) > pos > 7:\n",
    "            for x in range(1,9):\n",
    "                new_target_pos = target_pos + x\n",
    "                new_target_AA = seq[new_target_pos]\n",
    "                new_row = get_row(new_target_AA, AAlist)\n",
    "                j_Cterm = j_zero + x\n",
    "                score = matrix_type[new_row][j_Cterm]\n",
    "                add_score.append(score)\n",
    "                new_target_pos = target_pos - x\n",
    "                new_target_AA = seq[new_target_pos]\n",
    "                new_row = get_row(new_target_AA, AAlist)\n",
    "                j_Nterm = j_zero - x\n",
    "                score = matrix_type[new_row][j_Nterm]\n",
    "                add_score.append(score)       \n",
    "\n",
    "        if pos >= (len(seq) - 8):\n",
    "            for x in range(1,9):\n",
    "                new_target_pos = target_pos - x\n",
    "                new_target_AA = seq[new_target_pos]\n",
    "                new_row = get_row(new_target_AA, AAlist)\n",
    "                j_Nterm = j_zero - x\n",
    "                score = matrix_type[new_row][j_Nterm]\n",
    "                add_score.append(score)\n",
    "                \n",
    "        add = sum(add_score)\n",
    "        final_score.append(add)\n",
    "        add_score = []\n",
    "\n",
    "    return final_score"
   ]
  },
  {
   "cell_type": "code",
   "execution_count": 174,
   "metadata": {},
   "outputs": [
    {
     "name": "stdout",
     "output_type": "stream",
     "text": [
      "pH: \n",
      "[-0.3960509366844146, -0.8457479590010081, -1.460221381805302, -1.0843517243728507, -0.5736790534446692, -1.206842277392292, -1.6312175512340752, -1.273737785386656, -0.4232848814923943, -0.21367626855333688, -0.3020241896551839, -0.3344836907855765, -0.597242731031089, -0.9008849891372521, -0.6914088981059265, -0.7998718030556868, -0.7856539133115763, -0.8061108104273094, -1.0710251285636732, -1.1371713659768274, -0.8454217145654676, -0.6456062934378032, -0.5863606261131044, -0.608895880858132, -0.6718649635415205, -0.8992477077773021, -0.9004097833114844, -1.118962069957428, -1.496773916674292, -1.7461806354528573, -2.231738718938274, -1.568203265405914, -1.5850014833492114, -1.3838101496951343, -1.2969640264091697, -0.9865307391744685, -0.8906824002198371, -0.844139037233167, -1.1145356728936529, -1.592374948623835, -2.174985242182632, -2.5124471816239655, -1.5900329496732317, -1.2712565241251903, -1.0550804123738273, -1.1253267831907616, -1.5377194952695379, -1.5063130793304809, -1.2899314303592673, -1.143312007723583, -1.2083425436685864, -1.089779646904569, -0.8897889199066672, -0.8814418097595305, -0.7015443754335103, -0.5919322788340979, -0.4423084679468566, -0.3472190930612, -0.5127340873721147, -0.6879695910929151, -0.5296989972523709, -0.7353588844637463, -1.005516374414755, -1.1364496158077202, -0.9531693564312941, -1.0957576520576338, -1.3790278195364782, -1.628912845633875, -1.478941984907066, -1.4410265714306996, -1.4172333562140063, -1.2379901214127915, -0.9788348226955972, -0.9247051888817062, -0.9527410398610043, -0.8032084311959954, -1.0468503246808105, -1.3851437897927457, -1.669815309925471, -1.4676278871124029, -1.264302700758579, -0.9317283070538448, -0.6400962743936369, -0.32588558852428245, -0.29094697015899595, -0.030388451505617947, -0.0027902603864788794, -0.07885387633672716, -0.3916369161286187, -0.9218045276693111, -1.66501786825368, -2.4652239241834497, -1.556203579300623, -1.3395315937203078, -1.4028081274910353, -1.6426599299356737, -1.8615433444376321, -1.8881026726781036, -1.9489804611836705, -1.829192223326697, -1.5344657204027878, -1.5513244635034753, -1.8105213696429079, -1.4988353490028972, -1.274797173618479, -1.0730890562880622, -0.8087660676630585, -0.6175842659425799, -0.5430296266620448, -0.5705432088118507, -0.45612652027708633, -0.4575187606718352, -0.6706976770764463, -1.0541828180161512, -1.1564401211664213, -1.1238549980865071, -0.7950037375592247, -0.399969178221827, -0.30053175022372475, -0.3623149437011991, -0.16329274954518472, -0.059834482362334476, -0.2145981579297923, -0.6094651067753103, -0.6742445352729685, -0.5696118817076786, -0.9157049792676303, -1.3159920507123921, -2.2374671135125905, -3.1487855800976114, -3.0974877026645338, -2.350843585190775, -2.497307274542227, -2.4080716020722335, -2.758905977208364, -3.128256755056488, -2.1766987700914164, -1.954322688337446, -1.64541528321382, -1.2505669867625748, -1.0247991382225161, -0.4865422636273376, -0.15016072449653042, 0.20556624060592593, 0.5759541710735542, 0.4183507211136589, 0.4932920686021086, 0.5032435513197646, -0.24121086694183275, -0.5280971271234138, -0.8926409910271919, -0.46733433366068444, -0.5080611522435088, -0.15356145618121875, -0.018397532862416716, 0.06218378526660435, -0.08065878184622957, 0.027692853129475607, 0.15852210656220045, 0.0362392254445318, 0.03616130348597066, 0.3730817263016866, 0.6532132800571717, 0.3621751195058552, 0.09340991815463177, -0.057568976475469956]\n",
      "pE: \n",
      "[-0.5240610917585656, -0.97476842690118, -1.1679893603526912, -0.9411143735774533, -0.10904573009048647, 0.40948744500008993, -0.7621722873845667, -0.5220183852456175, -0.22850320628493834, 0.14344292486526417, 0.5391618880742131, 0.8721941896928128, 0.6261942864052289, 0.5129970453278704, 0.15667652644138308, -0.019962730589627484, -0.2571016894166505, -0.018172494543610238, 0.235925602796498, -0.05102575087866038, 0.06093524001831174, 0.5717932382531996, 0.6400124067581567, 0.6498662783144374, 0.5516022508673615, 0.5390597912776798, 1.174479972109419, 1.5253091972436956, 1.4598331963025035, 0.9092903927184758, -0.03194613503017846, -0.7678114851206156, -0.6440642123856981, -0.03651699302493203, 0.7743241626025741, 0.975926176699667, 0.9403837003641954, 0.2405342443620758, -0.44100271332029695, -0.5806262162770939, -0.6702862568529245, -0.4352522983082467, 0.23160442765312833, 0.771272156665974, 1.2087322372769627, 0.942066442986193, 0.5968340959136983, 0.6656277009391879, 0.8415083982649145, 0.5648835714074024, 0.4209668945195448, 0.4523478486074896, 0.25444047762660554, -0.1011874111703472, 0.12031927207443013, 1.2050899823625352, 1.7083713710023758, 1.47966194831251, 0.6796840893120648, 0.06870596354804301, -0.16056974717296385, -0.0015154344895529984, 0.07919188894039396, 0.1690216719793895, 1.111293847680767, 1.8587175541760492, 1.5467501604735712, 0.46465728502290865, -0.42360605048568656, -1.1809663536199309, -1.2464409099538418, -0.3317784839678158, 0.5412062641302127, 1.2009431463057572, 1.9241080463358415, 2.08750551818577, 2.0214185557384456, 1.4731420972639309, 0.16319657696446538, -0.41212961457979264, -0.4578381393348646, -0.04877926638047356, 0.27394371660321404, 0.4897479815665757, 0.5560709329082638, 0.5494812308725489, 0.5859874308532994, 0.504926319990746, 0.47233024415769526, 0.262639592117729, -0.09784291817974382, -0.9007908438448604, -0.5286063554178835, 0.16425208764364402, 0.925190618189797, 0.6970130633541987, 0.150267287950746, 0.1029129526506675, 0.47268973870334796, 1.0792204233339664, 1.5798575712658596, 1.3045380403655658, 0.9281483633129824, 0.9399827818264624, 0.9796868350501997, 0.8554222338558576, 0.6365756449281538, 0.7652791211587083, 0.6698415567917083, 0.45787358067268413, 0.43203420563553957, 0.2982913013517537, -0.1523184339165629, -0.46321220151937076, -0.24077884928763363, -0.13371009569497813, 0.2782186438073384, 0.7501857442152278, 0.8274589288876978, 0.89358847635007, 0.7539971141509096, 0.6610801804480055, 0.679113076531256, 0.7712164639520224, 0.6942985139068917, 0.25992918318353603, -0.10277654949924854, -0.13606638989631395, 0.3064010060472351, -0.09029397664014928, -0.913927511902256, -1.1864636308931937, -0.6341256842312657, 0.30088187386706006, 1.264385655478773, 0.9167713733517775, 0.4169184192047478, 0.3631856377012168, 0.3743164336175185, 0.743971063803886, 1.3646936574898272, 1.1451390934449848, 0.4859683458987044, 0.06307238271729139, -0.3926006121852099, -0.8280387668158865, -1.2069656502229025, -1.515792259236381, -1.321604087637857, -0.7818462734149528, -0.9785643770624569, -1.116362302138097, -1.0954419183333186, -1.104228864541959, -0.9314706499327872, -0.7910578022657704, -0.8179728328447112, -0.8686931973558883, -0.273292885786626, 0.2350816651821615, 0.5504350342824224, 0.0677652265404669, -0.3256615271613174, -0.4613465092322942, 0.0654361912957349, 0.6124738929488623]\n",
      "pO: \n",
      "[-0.11075397470135379, 0.2905904543300106, 0.5483292030541067, 0.462636810967632, -0.24448092819253725, -0.2567246235376972, 0.5408786797144587, 0.6540100854108453, -0.08386237009161462, -0.3290871309291339, -0.49728613094095253, -0.6965561300297504, -0.24724792269417167, 0.13466915881649477, 0.16827680122075445, 0.34475775237568734, 0.3522291253052085, 0.1870339822187014, 0.1795310160744046, 0.2541865126883504, 0.013268398318770726, -0.3719523504829304, -0.4051383501108863, -0.3712500105966859, -0.11398097517204119, 0.00411943010328291, -0.39822275525513917, -0.5578358733971048, -0.43427319970931677, -0.1735341189764903, 0.48594587943434997, 0.7665069145349597, 0.7694018156291865, 0.5477610269431288, 0.06608460228244512, -0.3457797730676877, -0.2949947728161357, 0.09513436234999376, 0.5110364532641785, 0.7331868477047848, 0.9353476371373026, 0.9231416037074999, 0.35843989716816277, 0.0539207522736057, -0.2884441686849656, -0.2129008793057995, 0.24171588076652448, 0.43217738909941894, 0.2906237674695533, 0.2898453908048152, 0.20613641137980743, 0.08781258221744632, 0.16505817853773594, 0.23000453489294084, -0.2642774521024073, -0.942728612445045, -1.3461043123322973, -1.2421739991064031, -0.5730184479368013, -0.2427000231296259, -0.0888395618594289, 0.12360851208612214, 0.24145445955423095, 0.09020329187783804, -0.4857058696694842, -0.8717856845702308, -0.5397502944387059, 0.2604089661031079, 0.7874718580311876, 1.1230805031393978, 1.0785780452416438, 0.6471252892547171, 0.05530111985651956, -0.33858922480987613, -0.7429441674623438, -0.9838033522077843, -0.7796766112175542, -0.2768434526434119, 0.6152130872161337, 0.8509813787019849, 0.6431567693700183, 0.1728784663408256, -0.21042661102812366, -0.5845041365675907, -0.5120974229622787, -0.650641168908525, -0.689844333079246, -0.6452771446597912, -0.544825300317207, -0.26409359892252116, 0.29899886736698017, 0.8765551729357113, 0.5650196494092982, 0.30298483175752317, -0.011793367991034035, 0.24448856093125768, 0.6664355207970373, 0.7919140873117607, 0.6210693606790704, 0.43104698012302767, -0.10134916855258932, -0.07800787991361302, 0.23088348231593012, 0.2102616751653787, 0.17693870227574798, 0.09381052372232399, -0.08298799982248019, -0.44395241964798415, -0.4326658686345703, -0.284980328913309, -0.2428690321904443, -0.23838391003536882, -0.042309584633331954, 0.29878247063560265, 0.40968249747229807, 0.22738078809577475, -0.19529335402012066, -0.8825559214168176, -0.9492992832972845, -0.721099586708943, -0.6750102691362732, -0.7280369289777114, -0.7500204881723939, -0.5450026852089412, -0.4243338147485157, -0.19570496226683284, 0.04532863287673328, 0.010010847838070342, 0.14205170522770336, 0.557275272772842, 1.1830489065451606, 1.3598374981256973, 1.3113692869463234, 0.8612553922069184, 0.4573376241606718, 0.5597175286646747, 0.5929891039015889, 0.6833409351738771, 0.4142919990830523, 0.014213184017190503, -0.5654543908936494, -0.8863867711961413, -0.6700164822981913, -0.6559819869227019, -0.7300824379828733, -0.41004061732123387, -0.30249423558537847, -0.24813624834064887, 0.041515339208611564, -0.10811508213634574, 0.01244732547880949, 0.22505456095322837, 0.2776974509676413, 0.03254212913670121, -0.03878672491127358, -0.035548857364836324, 0.1254410562302147, -0.056479820128333316, -0.3795732267398074, -0.353294017536089, -0.45774904160282665, -0.505410604592921, -0.536647576607663, -0.20916094322775533, -0.4678078705970989, -0.7391607205734974]\n"
     ]
    }
   ],
   "source": [
    "res_AA = get_residue_structure(AA_seq)\n",
    "struc_actual = get_residue_structure(SS_actual)\n",
    "\n",
    "alpha_score = get_structure_score(res_AA, alpha_score_matrix, AA_list)\n",
    "extend_score = get_structure_score(res_AA, extend_score_matrix, AA_list)\n",
    "other_score = get_structure_score(res_AA, other_score_matrix, AA_list)\n",
    "\n",
    "print('pH: \\n' + str(alpha_score) + ('\\n') +'pE: \\n'+ str(extend_score) + ('\\n') +'pO: \\n'+ str(other_score))"
   ]
  },
  {
   "cell_type": "raw",
   "metadata": {},
   "source": [
    "\"\"\"\n",
    "    takes all the three score lists (alpha_score, extend_score, other_score)\n",
    "    at each position in the list, the value of score at that position is compared amongst the three \n",
    "    if the highest score is found in list alpha_score\n",
    "        it assigns alpha conformation\n",
    "        appends the conformation to empty list (predicted_structure)   \n",
    "    if the highest score is found in list extend_score\n",
    "        it assigns extend conformation\n",
    "        appends the conformation to empty list (predicted_structure)\n",
    "    \n",
    "    if the highest score is found in list other_score\n",
    "        it assigns other conformation\n",
    "        appends the conformation to empty list (predicted_structure)\n",
    "    \"\"\""
   ]
  },
  {
   "cell_type": "code",
   "execution_count": 175,
   "metadata": {},
   "outputs": [
    {
     "name": "stdout",
     "output_type": "stream",
     "text": [
      "Predicted: \n",
      "['-', '-', '-', '-', 'E', 'E', '-', '-', '-', 'E', 'E', 'E', 'E', 'E', '-', '-', '-', '-', 'E', '-', 'E', 'E', 'E', 'E', 'E', 'E', 'E', 'E', 'E', 'E', '-', '-', '-', '-', 'E', 'E', 'E', 'E', '-', '-', '-', '-', '-', 'E', 'E', 'E', 'E', 'E', 'E', 'E', 'E', 'E', 'E', '-', 'E', 'E', 'E', 'E', 'E', 'E', '-', '-', '-', 'E', 'E', 'E', 'E', 'E', '-', '-', '-', '-', 'E', 'E', 'E', 'E', 'E', 'E', '-', '-', '-', '-', 'E', 'E', 'E', 'E', 'E', 'E', 'E', 'E', '-', '-', '-', '-', 'E', 'E', '-', '-', '-', 'E', 'E', 'E', 'E', 'E', 'E', 'E', 'E', 'E', 'E', 'E', 'E', 'E', '-', '-', '-', '-', 'E', 'E', 'E', 'E', 'E', 'E', 'E', 'E', 'E', 'E', '-', '-', 'E', '-', '-', '-', '-', '-', 'E', 'E', '-', '-', '-', 'E', 'E', 'E', 'E', 'H', 'H', 'H', 'H', 'H', '-', '-', '-', '-', '-', '-', 'H', 'H', '-', 'H', 'H', 'E', 'E', 'H', 'H', 'H', 'H', 'E']\n",
      "Actual: \n",
      "['-', '-', '-', '-', 'E', 'E', '-', '-', '-', '-', 'E', 'E', '-', '-', '-', '-', 'E', 'E', 'E', 'E', '-', 'E', 'E', 'E', '-', '-', '-', '-', 'E', 'E', '-', '-', '-', '-', 'E', 'E', 'E', 'E', '-', '-', '-', '-', '-', 'E', 'E', 'E', '-', '-', '-', '-', 'E', 'E', '-', '-', '-', '-', 'E', 'E', 'E', 'E', '-', '-', '-', '-', '-', 'E', 'E', '-', '-', '-', '-', '-', 'E', 'E', '-', 'E', 'E', 'E', '-', '-', '-', '-', 'E', 'E', '-', '-', '-', '-', 'E', 'E', 'E', 'E', 'E', 'E', 'E', 'E', '-', '-', '-', '-', 'E', 'E', '-', '-', '-', '-', 'E', 'E', 'E', 'E', 'E', 'E', 'E', '-', '-', '-', '-', 'E', 'E', '-', '-', '-', '-', 'E', 'E', 'E', '-', '-', 'E', 'E', '-', '-', '-', 'E', 'E', 'E', '-', '-', '-', '-', 'E', 'E', '-', '-', 'H', 'H', 'H', 'H', '-', '-', '-', '-', 'E', '-', '-', 'H', 'H', 'H', 'H', 'H', 'H', 'H', 'H', 'H', 'H', '-']\n"
     ]
    }
   ],
   "source": [
    "predicted_structure = []\n",
    "for i in range(0, len(struc_actual)):\n",
    "    if other_score[i] > extend_score[i] and other_score[i] > alpha_score[i]:\n",
    "        secondary_struc = '-'\n",
    "        predicted_structure.append(secondary_struc)\n",
    "      \n",
    "    if extend_score[i] > other_score[i] and extend_score[i] > alpha_score[i]:\n",
    "        secondary_struc = 'E'\n",
    "        predicted_structure.append(secondary_struc)\n",
    "      \n",
    "    if alpha_score[i]> extend_score[i] and alpha_score[i]>other_score[i]:\n",
    "        secondary_struc = 'H'\n",
    "        predicted_structure.append(secondary_struc)\n",
    "print('Predicted: \\n' + str(predicted_structure))\n",
    "print('Actual: \\n' + str(struc_actual))"
   ]
  },
  {
   "cell_type": "code",
   "execution_count": 176,
   "metadata": {},
   "outputs": [
    {
     "name": "stdout",
     "output_type": "stream",
     "text": [
      "predicted seq: [114]\n",
      "total seq: [166]\n",
      "accuracy: 0.6867469879518072\n"
     ]
    }
   ],
   "source": [
    "prediction = []\n",
    "actual_ss = []\n",
    "ind = 0  \n",
    "for i in range(0, len(predicted_structure)):\n",
    "    if struc_actual[i] == predicted_structure[i]:\n",
    "        ind += 1\n",
    "prediction.append(ind)\n",
    "actual_ss.append(len(struc_actual))\n",
    "   \n",
    "print ('predicted seq: ' + str(prediction) +'\\n'+ 'total seq: ' + str(actual_ss))\n",
    "\n",
    "print('accuracy: ' + str((sum(prediction))/(sum(actual_ss))))"
   ]
  },
  {
   "cell_type": "code",
   "execution_count": null,
   "metadata": {},
   "outputs": [],
   "source": []
  }
 ],
 "metadata": {
  "kernelspec": {
   "display_name": "Python 3",
   "language": "python",
   "name": "python3"
  },
  "language_info": {
   "codemirror_mode": {
    "name": "ipython",
    "version": 3
   },
   "file_extension": ".py",
   "mimetype": "text/x-python",
   "name": "python",
   "nbconvert_exporter": "python",
   "pygments_lexer": "ipython3",
   "version": "3.8.3"
  },
  "widgets": {
   "application/vnd.jupyter.widget-state+json": {
    "state": {},
    "version_major": 2,
    "version_minor": 0
   }
  }
 },
 "nbformat": 4,
 "nbformat_minor": 4
}
